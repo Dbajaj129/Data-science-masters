{
 "cells": [
  {
   "cell_type": "markdown",
   "id": "b9e5213a-9e86-4938-9253-22c77e96e431",
   "metadata": {},
   "source": [
    "# Assignment 4"
   ]
  },
  {
   "cell_type": "markdown",
   "id": "03c0966d-038b-410c-a5c0-1628df4b1f5a",
   "metadata": {},
   "source": [
    "# oops"
   ]
  },
  {
   "cell_type": "code",
   "execution_count": 2,
   "id": "2c7689d1-cb94-4a8a-aef3-83f3b287b1f4",
   "metadata": {},
   "outputs": [],
   "source": [
    "# Ans-1"
   ]
  },
  {
   "cell_type": "code",
   "execution_count": null,
   "id": "e1e4c6ac-00e7-484b-adf1-433ed510bbf4",
   "metadata": {},
   "outputs": [],
   "source": [
    ": A class is a blueprint or template for creating objects that define a set of attributes and methods.\n",
    ": An object is an instance of a class that contains data and behavior defined by the class.\n",
    "\n",
    "For example\n",
    "\n",
    "* consider a class called \"Car\" that defines the attributes and methods of a car. The attributes may include the make, model, year, color, and price of the car, while the methods may include starting the engine, accelerating, braking, and turning.\n",
    "* An object of this class could be a specific car instance, such as a red 2023 jeep rubicon wranglor priced at Rs25,00,000.\n"
   ]
  },
  {
   "cell_type": "code",
   "execution_count": 3,
   "id": "af1c79c6-28db-4f5d-8c01-5e19310dc15d",
   "metadata": {},
   "outputs": [],
   "source": [
    "# Ans -2"
   ]
  },
  {
   "cell_type": "code",
   "execution_count": null,
   "id": "34bb6ca4-76fe-4b37-bc72-054aadfbdcf5",
   "metadata": {},
   "outputs": [],
   "source": [
    "The four main pillers of OOPs are as follow:\n",
    "1) Abstraction.\n",
    "2) Encapsulation.\n",
    "3) Inheritance.\n",
    "4) Polymorphism.\n"
   ]
  },
  {
   "cell_type": "code",
   "execution_count": 4,
   "id": "a97abb82-82a8-40f7-bd53-a0075dbf9ee9",
   "metadata": {},
   "outputs": [],
   "source": [
    "#Ans -3"
   ]
  },
  {
   "cell_type": "code",
   "execution_count": 11,
   "id": "45766031-5b2d-462b-8bac-2c6f3e9f5831",
   "metadata": {},
   "outputs": [],
   "source": [
    "#The __init__ function is used when a class is created and we have to use the similar class for initiating multiple information, then we use __init__ function in OOPs.\n",
    "\n",
    "#for example :\n",
    "    \n",
    "class R1rcm:\n",
    "    \n",
    "    def __init__ (self, phone_number, email_id, employee_id):\n",
    "        self.phone_number = phone_number\n",
    "        self.email_id = email_id\n",
    "        self.employee_id = employee_id\n",
    "    \n",
    "    def return_employee_detailsZ(self):\n",
    "        return self.phone_number, self.email_id, self.employee_id"
   ]
  },
  {
   "cell_type": "code",
   "execution_count": 13,
   "id": "c205f9be-e108-4389-9000-52d472ba84e7",
   "metadata": {},
   "outputs": [],
   "source": [
    "Riya = R1rcm(8683029082, 'badshahdhruv061@gmil.com',9281)"
   ]
  },
  {
   "cell_type": "code",
   "execution_count": 14,
   "id": "b96ffabd-dffd-4fe8-8a79-5a05c51e1ee2",
   "metadata": {},
   "outputs": [
    {
     "name": "stdout",
     "output_type": "stream",
     "text": [
      "<class '__main__.R1rcm'>\n"
     ]
    }
   ],
   "source": [
    "print(type(Riya))"
   ]
  },
  {
   "cell_type": "code",
   "execution_count": 15,
   "id": "59b69b86-3db5-4712-b556-19408291e136",
   "metadata": {},
   "outputs": [
    {
     "data": {
      "text/plain": [
       "9281"
      ]
     },
     "execution_count": 15,
     "metadata": {},
     "output_type": "execute_result"
    }
   ],
   "source": [
    "Riya.employee_id"
   ]
  },
  {
   "cell_type": "code",
   "execution_count": 16,
   "id": "bd6337f7-674d-424a-8ea0-312e9dd9b813",
   "metadata": {},
   "outputs": [
    {
     "data": {
      "text/plain": [
       "8683029082"
      ]
     },
     "execution_count": 16,
     "metadata": {},
     "output_type": "execute_result"
    }
   ],
   "source": [
    "Riya.phone_number"
   ]
  },
  {
   "cell_type": "code",
   "execution_count": 18,
   "id": "6eecfe77-9488-4630-9769-3a59712271af",
   "metadata": {},
   "outputs": [
    {
     "data": {
      "text/plain": [
       "(8683029082, 'badshahdhruv061@gmil.com', 9281)"
      ]
     },
     "execution_count": 18,
     "metadata": {},
     "output_type": "execute_result"
    }
   ],
   "source": [
    "Riya.return_employee_detailsZ()"
   ]
  },
  {
   "cell_type": "code",
   "execution_count": 19,
   "id": "5a7fe7bc-fe98-42c8-a7e3-f8bff8641406",
   "metadata": {},
   "outputs": [],
   "source": [
    "# ans-4"
   ]
  },
  {
   "cell_type": "code",
   "execution_count": null,
   "id": "d295f3fa-a9ec-4b92-8905-d106dcdc67ae",
   "metadata": {},
   "outputs": [],
   "source": [
    "Self in python allows you to access variables, attributes, and methods of a defined class in Python."
   ]
  },
  {
   "cell_type": "code",
   "execution_count": 20,
   "id": "f22172e2-3a9d-4d03-b9e1-bcd3f3c1d082",
   "metadata": {},
   "outputs": [],
   "source": [
    "# ans - 5"
   ]
  },
  {
   "cell_type": "code",
   "execution_count": null,
   "id": "9ed78da8-1765-4815-84e4-dcb504c1c950",
   "metadata": {},
   "outputs": [],
   "source": [
    " Inheritance is a mechanism in which one class acquires the property of another class.\n",
    "    \n",
    "For example:\n",
    "        \n",
    "        \n",
    "    A child inherits the traits of his/her parents. With inheritance, we can reuse the fields and methods of the existing class"
   ]
  },
  {
   "cell_type": "markdown",
   "id": "5cf6d517-e466-4c0c-a0f6-f0f1a14ef36f",
   "metadata": {},
   "source": [
    "# thankyou"
   ]
  },
  {
   "cell_type": "code",
   "execution_count": null,
   "id": "25e847d6-6f0e-47fd-975c-051d43609687",
   "metadata": {},
   "outputs": [],
   "source": []
  }
 ],
 "metadata": {
  "kernelspec": {
   "display_name": "Python 3 (ipykernel)",
   "language": "python",
   "name": "python3"
  },
  "language_info": {
   "codemirror_mode": {
    "name": "ipython",
    "version": 3
   },
   "file_extension": ".py",
   "mimetype": "text/x-python",
   "name": "python",
   "nbconvert_exporter": "python",
   "pygments_lexer": "ipython3",
   "version": "3.10.8"
  }
 },
 "nbformat": 4,
 "nbformat_minor": 5
}

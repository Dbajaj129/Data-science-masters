{
 "cells": [
  {
   "cell_type": "markdown",
   "id": "99fc9fad-87ca-411e-964c-57d4a84b13ae",
   "metadata": {},
   "source": [
    "# ASSIGNMENT-2"
   ]
  },
  {
   "cell_type": "markdown",
   "id": "e6bef5a1-8342-41cb-b427-2ca5e9ea4507",
   "metadata": {},
   "source": [
    "## FUNCTIONS"
   ]
  },
  {
   "cell_type": "code",
   "execution_count": null,
   "id": "2bcbb46f-7dce-4e9c-8bc1-be8d9e48465c",
   "metadata": {},
   "outputs": [],
   "source": [
    "1}\n",
    "The keyword used to create a function is `def`.\n",
    "example that returns a list of odd numbers in the range of 1 to 25."
   ]
  },
  {
   "cell_type": "code",
   "execution_count": 4,
   "id": "11c5479b-54fe-4d36-86fe-b303f5d80208",
   "metadata": {},
   "outputs": [],
   "source": [
    "def get_odd_numbers():\n",
    "    odd_numbers = []\n",
    "    for num in range(1, 26):\n",
    "        if num % 2 != 0:\n",
    "            odd_numbers.append(num)\n",
    "    return odd_numbers"
   ]
  },
  {
   "cell_type": "code",
   "execution_count": 5,
   "id": "7a2a25fe-71cc-4bc4-81ab-72ca22faa2a1",
   "metadata": {},
   "outputs": [
    {
     "name": "stdout",
     "output_type": "stream",
     "text": [
      "[1, 3, 5, 7, 9, 11, 13, 15, 17, 19, 21, 23, 25]\n"
     ]
    }
   ],
   "source": [
    "print(get_odd_numbers())"
   ]
  },
  {
   "cell_type": "code",
   "execution_count": null,
   "id": "cb4e10cc-a8cf-4e4b-a4e4-95c6464a1208",
   "metadata": {},
   "outputs": [],
   "source": [
    "Thats how we can create a function to call out all odd numbers from a range of numbers"
   ]
  },
  {
   "cell_type": "code",
   "execution_count": null,
   "id": "c5c08123-1c24-423f-bee1-8550cff49ffc",
   "metadata": {},
   "outputs": [],
   "source": [
    "2}\n",
    "use of *args: when we can not put any specific data for creating a function, as while working professionally we may have lot of workable elements on the created function so we use '*args' while creating any function.\n",
    "use of **kwargs: when we want to craete any list/tuple/ or given data into a \"dictionary\" then we will use '*kwargs'.\n"
   ]
  },
  {
   "cell_type": "code",
   "execution_count": 6,
   "id": "86408145-b954-4768-ac9c-beaa745484a8",
   "metadata": {},
   "outputs": [],
   "source": [
    "def test12(*args):\n",
    "    l=[]\n",
    "    for i in args:\n",
    "        if type(i)== list:\n",
    "            l.append(i)\n",
    "    return l"
   ]
  },
  {
   "cell_type": "code",
   "execution_count": 7,
   "id": "2f2cb7b7-3ffb-4d26-b969-874b450085a2",
   "metadata": {},
   "outputs": [
    {
     "data": {
      "text/plain": [
       "[[1, 2, 3, 4, 5]]"
      ]
     },
     "execution_count": 7,
     "metadata": {},
     "output_type": "execute_result"
    }
   ],
   "source": [
    "test12(1,2,3,4,5,[1,2,3,4,5],(1,2,5,5,5,6666,7),'kaku','dhruvv')"
   ]
  },
  {
   "cell_type": "code",
   "execution_count": 18,
   "id": "009b181e-b254-4046-a2c0-53da97c7ea5a",
   "metadata": {},
   "outputs": [],
   "source": [
    "def test6 (**kwargs):\n",
    "    return kwargs "
   ]
  },
  {
   "cell_type": "code",
   "execution_count": 19,
   "id": "a46ac7c6-4339-47ce-b993-38d06dfc787c",
   "metadata": {},
   "outputs": [
    {
     "data": {
      "text/plain": [
       "{'a': 'kaku', 'b': 'dhruv', 'c': 'yashu', 'd': [1, 2, 3, 4, 5, 6, 7, 8]}"
      ]
     },
     "execution_count": 19,
     "metadata": {},
     "output_type": "execute_result"
    }
   ],
   "source": [
    "test6(a= 'kaku', b='dhruv', c='yashu', d= [1,2,3,4,5,6,7,8])"
   ]
  },
  {
   "cell_type": "code",
   "execution_count": null,
   "id": "996e009a-85be-47d7-89b4-0768e4cb66e9",
   "metadata": {},
   "outputs": [],
   "source": [
    "3]\n",
    "An iterator in Python is an object that can be iterated (looped) upon. It is used to access the elements of a collection, one at a time, without needing to know the underlying details of the collection. \n",
    "\n",
    "The method used to initialize an iterator object is `iter()`. The method used for iteration is `next()`. \n",
    "\n"
   ]
  },
  {
   "cell_type": "code",
   "execution_count": 20,
   "id": "30d676b5-a4ad-4b33-9092-fcb61615c56e",
   "metadata": {},
   "outputs": [
    {
     "name": "stdout",
     "output_type": "stream",
     "text": [
      "2\n",
      "4\n",
      "6\n",
      "8\n",
      "10\n"
     ]
    }
   ],
   "source": [
    "# To print the first five elements of the given list [2, 4, 6, 8, 10, 12, 14, 16, 18, 20], we can use the following code:\n",
    "my_list = [2, 4, 6, 8, 10, 12, 14, 16, 18, 20]\n",
    "my_iterator = iter(my_list)\n",
    "\n",
    "for i in range(5):\n",
    "    print(next(my_iterator))"
   ]
  },
  {
   "cell_type": "code",
   "execution_count": null,
   "id": "05ebac3c-ee2a-4b7d-9316-ea57709fbf99",
   "metadata": {},
   "outputs": [],
   "source": [
    "4}\n",
    "A generator function in Python is a special type of function that generates an iterator object. It uses the `yield` keyword to produce a series of values that can be iterated over using a `for` loop method.\n",
    " "
   ]
  },
  {
   "cell_type": "code",
   "execution_count": 21,
   "id": "e308e41d-b05d-4028-a5d5-020dc361a7d1",
   "metadata": {},
   "outputs": [],
   "source": [
    "#example of a simple generator function that produces the first n Fibonacci numbers:\n",
    "def fibonacci(n):\n",
    "    a, b = 0, 1\n",
    "    for i in range(n):\n",
    "        yield a\n",
    "        a, b = b, a + b"
   ]
  },
  {
   "cell_type": "code",
   "execution_count": 22,
   "id": "b48a261e-c05e-40d3-82fd-74c2f69dc3a7",
   "metadata": {},
   "outputs": [
    {
     "name": "stdout",
     "output_type": "stream",
     "text": [
      "0\n",
      "1\n",
      "1\n",
      "2\n",
      "3\n",
      "5\n",
      "8\n",
      "13\n",
      "21\n",
      "34\n"
     ]
    }
   ],
   "source": [
    "fib = fibonacci(10)\n",
    "for num in fib:\n",
    "    print(num)"
   ]
  },
  {
   "cell_type": "code",
   "execution_count": 24,
   "id": "6bd990eb-5379-4319-92e7-14c524889f29",
   "metadata": {},
   "outputs": [],
   "source": [
    "#5}\n",
    "def primes():\n",
    "    num = 2\n",
    "    while True:\n",
    "        for i in range(2, num):\n",
    "            if num % i == 0:\n",
    "                break\n",
    "        else:\n",
    "            yield num\n",
    "        num += 1\n",
    "        if num >= 1000:\n",
    "            break\n"
   ]
  },
  {
   "cell_type": "code",
   "execution_count": 25,
   "id": "5389eaf3-fc1c-4add-9faa-8aadfcb6ab71",
   "metadata": {},
   "outputs": [
    {
     "name": "stdout",
     "output_type": "stream",
     "text": [
      "2\n",
      "3\n",
      "5\n",
      "7\n",
      "11\n",
      "13\n",
      "17\n",
      "19\n",
      "23\n",
      "29\n",
      "31\n",
      "37\n",
      "41\n",
      "43\n",
      "47\n",
      "53\n",
      "59\n",
      "61\n",
      "67\n",
      "71\n"
     ]
    }
   ],
   "source": [
    "prime_gen = primes()\n",
    "for i in range(20):\n",
    "    print(next(prime_gen))\n"
   ]
  },
  {
   "cell_type": "markdown",
   "id": "5e42bc73-2c5a-49e4-9d69-453c9b6b3d28",
   "metadata": {},
   "source": [
    "# THANKYOU"
   ]
  },
  {
   "cell_type": "code",
   "execution_count": null,
   "id": "5572d696-0ee5-489c-baac-a12a71588dd0",
   "metadata": {},
   "outputs": [],
   "source": []
  }
 ],
 "metadata": {
  "kernelspec": {
   "display_name": "Python 3 (ipykernel)",
   "language": "python",
   "name": "python3"
  },
  "language_info": {
   "codemirror_mode": {
    "name": "ipython",
    "version": 3
   },
   "file_extension": ".py",
   "mimetype": "text/x-python",
   "name": "python",
   "nbconvert_exporter": "python",
   "pygments_lexer": "ipython3",
   "version": "3.10.8"
  }
 },
 "nbformat": 4,
 "nbformat_minor": 5
}

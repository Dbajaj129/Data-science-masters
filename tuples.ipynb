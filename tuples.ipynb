{
 "cells": [
  {
   "cell_type": "code",
   "execution_count": null,
   "id": "fdf29a2e-292b-4f54-b3fc-d8a004df1922",
   "metadata": {},
   "outputs": [],
   "source": [
    "Q-1 what are the chracterstics of the tuples? is tuple immutable?"
   ]
  },
  {
   "cell_type": "code",
   "execution_count": null,
   "id": "11a6a72d-3635-4c9a-9c4d-b1f858f63ccb",
   "metadata": {},
   "outputs": [],
   "source": [
    "Answer: tuples are similar to list but they are immutable means they cannot be changed once created. Tuples are defined through '()' these brackets.\n",
    "Chracterstics of Tuples:\n",
    "    1: tuples are ordered means the elements in tuples have a specific order.\n",
    "    2: tuples are immutable means they can not be changed once created.\n",
    "    3: tuples can contain any type of data i.e. str,float & int.\n",
    "    \n",
    "yes, tuples are immutable the data inside a tuple can not be changed once initiated."
   ]
  },
  {
   "cell_type": "code",
   "execution_count": null,
   "id": "78e93e41-0179-49d3-995d-506104b5487b",
   "metadata": {},
   "outputs": [],
   "source": [
    "Q-2 what are the two tuple methods in paython? Give examples of each method. Give reason why tuples have only two in-built methods as compared to list."
   ]
  },
  {
   "cell_type": "code",
   "execution_count": null,
   "id": "26fbf21d-10c1-480d-88f9-4cb61dcf6b10",
   "metadata": {},
   "outputs": [],
   "source": [
    "Answer:there are two types of method in tuple : .index & .count.\n",
    "for example: "
   ]
  },
  {
   "cell_type": "code",
   "execution_count": 1,
   "id": "56cb9abd-e77d-4939-ba37-cd60f2d7f970",
   "metadata": {},
   "outputs": [],
   "source": [
    "t1=(1,2,3,4,5)"
   ]
  },
  {
   "cell_type": "code",
   "execution_count": 3,
   "id": "6cf96181-bcb9-4502-9896-b783c73f6c70",
   "metadata": {},
   "outputs": [
    {
     "data": {
      "text/plain": [
       "1"
      ]
     },
     "execution_count": 3,
     "metadata": {},
     "output_type": "execute_result"
    }
   ],
   "source": [
    "t1.count(4)  [this will help to count that how many times the given elemnt have in the given tuple]"
   ]
  },
  {
   "cell_type": "code",
   "execution_count": 4,
   "id": "d451ccef-113c-415a-8340-94166c3dc8c6",
   "metadata": {},
   "outputs": [
    {
     "data": {
      "text/plain": [
       "1"
      ]
     },
     "execution_count": 4,
     "metadata": {},
     "output_type": "execute_result"
    }
   ],
   "source": [
    "t1.index(2) [this will tell the index value of the element]"
   ]
  },
  {
   "cell_type": "code",
   "execution_count": null,
   "id": "8b75b3be-6160-4593-8b04-b30f445838d6",
   "metadata": {},
   "outputs": [],
   "source": [
    "Q-3 Which collection datatypes in python do not allow duplicates items? Write a code using a set to remove duplicates from the given list.\n",
    "list=[1,1,1,2,1,3,1,4,2,1,2,2,2,3,2,4,2,1,3,2,2,2,2,4,4,1,1,3,3,5,5,6,4]"
   ]
  },
  {
   "cell_type": "code",
   "execution_count": null,
   "id": "c79d84ef-1a95-4911-b2a4-d23cef1d30b6",
   "metadata": {},
   "outputs": [],
   "source": [
    "Answer: the datatype which donot allow duplicates is known as 'SETS'.\n"
   ]
  },
  {
   "cell_type": "code",
   "execution_count": 6,
   "id": "71f39240-2270-4f10-b9f0-60927db73ac3",
   "metadata": {},
   "outputs": [],
   "source": [
    "list={1,1,1,2,1,3,1,4,2,1,2,2,2,3,2,4,2,1,3,2,2,2,2,4,4,1,1,3,3,5,5,6,4}"
   ]
  },
  {
   "cell_type": "code",
   "execution_count": 7,
   "id": "4c968fce-5a56-4800-917d-3846ec47138a",
   "metadata": {},
   "outputs": [
    {
     "data": {
      "text/plain": [
       "{1, 2, 3, 4, 5, 6}"
      ]
     },
     "execution_count": 7,
     "metadata": {},
     "output_type": "execute_result"
    }
   ],
   "source": [
    "list [when we call the list after putting '{}' these brackets this will results only single element not the duplicate ones."
   ]
  },
  {
   "cell_type": "code",
   "execution_count": null,
   "id": "15f32b49-b4fd-4f4f-9e3e-173dcbb8a1b9",
   "metadata": {},
   "outputs": [],
   "source": [
    "Q-4 Explain the difference between the union() and updtate() method for a set. Give an example of each method."
   ]
  },
  {
   "cell_type": "code",
   "execution_count": null,
   "id": "5823a343-15f0-4b05-80bc-2af0cf2c3ce2",
   "metadata": {},
   "outputs": [],
   "source": [
    "Answer:"
   ]
  },
  {
   "cell_type": "code",
   "execution_count": null,
   "id": "49cb1f87-55fe-49ca-ba70-a5bdd9b63706",
   "metadata": {},
   "outputs": [],
   "source": [
    "Q-5 What is a dictionary? Give an example . Also state whether a dictionary is ordered or unoredered."
   ]
  },
  {
   "cell_type": "code",
   "execution_count": null,
   "id": "293b6c81-dc52-47aa-8d10-70ca81da59d1",
   "metadata": {},
   "outputs": [],
   "source": [
    "Answer:dictionary is a combination of keys and value with the element which depicts keys as a heading of data & values as a data of same heading. \n",
    "for example: dic={'keys':'values','keys1':'values'}\n",
    "keys can only be string, float, boolian,  and integer but keys can never be special chractor(#@$) .\n",
    "\n",
    "values can be anything (string,list,float,boolian, values, tuples and sets as wel as dictionary.\n",
    "            "
   ]
  },
  {
   "cell_type": "code",
   "execution_count": null,
   "id": "0698960c-2f2e-486b-9c6d-b23b7ab52aa0",
   "metadata": {},
   "outputs": [],
   "source": [
    "Dictionary are unordered. the order of items in a dictionary is not fixed and can change when new items are added or existing item is removed."
   ]
  },
  {
   "cell_type": "code",
   "execution_count": null,
   "id": "38312add-e288-419f-b0a2-6915b538d206",
   "metadata": {},
   "outputs": [],
   "source": [
    "Q-6Can we create a nested dictionary? if so, please give an example by creating a simple ine-level nested dictionary.\n"
   ]
  },
  {
   "cell_type": "code",
   "execution_count": null,
   "id": "baca96dc-a747-4bed-8eb6-1b878121dd83",
   "metadata": {},
   "outputs": [],
   "source": [
    "Answer: YES, we can create a Nested dicttionary. \n",
    "NESTED DICTIONARY: A nested dictionary is a dictionary with in a dictionary where each value in outer dictionary is another dictionary.\n"
   ]
  },
  {
   "cell_type": "code",
   "execution_count": null,
   "id": "c8302a1e-7c9e-4abc-bf49-aac01538ccd8",
   "metadata": {},
   "outputs": [],
   "source": [
    "for example:\n",
    "dict1={'person1':{'name':'john','age':22,'adress':{'street':'593 bhagwati chowk','city':'rohtak','state':'haryana'}}\n",
    "       \n",
    "       the above is the example of the nested dictionary where we see dictionary inside a dictionary."
   ]
  },
  {
   "cell_type": "code",
   "execution_count": null,
   "id": "406ebfa8-e476-4082-8369-5090b179ef9b",
   "metadata": {},
   "outputs": [],
   "source": [
    "Q-7 Using setdefault() method, create key named topics in the given dictionary and also addd the value of the key as this list ['Python','Machine Learning','Deep Learning']\n",
    "\n",
    "dict1{'language':'python','course','Data science masters'}\n"
   ]
  },
  {
   "cell_type": "code",
   "execution_count": 20,
   "id": "3c4cfb23-a189-46d9-82e4-45129edd0947",
   "metadata": {},
   "outputs": [],
   "source": [
    "\n",
    "dict1 = {'language': 'python', 'course': 'Data science masters'}\n",
    "    "
   ]
  },
  {
   "cell_type": "code",
   "execution_count": 21,
   "id": "2b538143-3588-4d32-b169-2eefd35cbb46",
   "metadata": {},
   "outputs": [
    {
     "name": "stdout",
     "output_type": "stream",
     "text": [
      "{'language': 'python', 'course': 'Data science masters', 'topics': ['Python', 'Machine Learning', 'Deep Learning']}\n"
     ]
    }
   ],
   "source": [
    "dict1.setdefault('topics', ['Python', 'Machine Learning', 'Deep Learning'])\n",
    "print(dict1)\n"
   ]
  },
  {
   "cell_type": "code",
   "execution_count": null,
   "id": "dd2f98da-cf94-4f7d-a90f-3b69fdab4dda",
   "metadata": {},
   "outputs": [],
   "source": [
    " "
   ]
  },
  {
   "cell_type": "code",
   "execution_count": null,
   "id": "35e802a3-8d2f-42c2-8c92-1f653bb209cf",
   "metadata": {},
   "outputs": [],
   "source": [
    "Q-8 What are the three view object in dictiornary ? Use the three in-build methods in python to display these thre view objects for the given dictionary.\n",
    "\n",
    "\n",
    "dict2= {'sport':'Cricket','Teams':['India','England','South africa','Sri lanka','New zealand']}"
   ]
  },
  {
   "cell_type": "code",
   "execution_count": null,
   "id": "29e579ba-f5aa-4b91-a05c-6a16c87bc491",
   "metadata": {},
   "outputs": [],
   "source": [
    "Answer:\n",
    "    The three view objects in a dictionary are:\n",
    "\n",
    "1. `keys()` - This returns a view object of all the keys in the dictionary.\n",
    "2. `values()` - This returns a view object of all the values in the dictionary.\n",
    "3. `items()` - This returns a view object of all the key-value pairs in the dictionary.\n"
   ]
  },
  {
   "cell_type": "code",
   "execution_count": 22,
   "id": "7894fd4c-b4a1-45b2-9abb-09cafeda334c",
   "metadata": {},
   "outputs": [],
   "source": [
    "dict2= {'sport':'Cricket','Teams':['India','England','South africa','Sri lanka','New zealand']}"
   ]
  },
  {
   "cell_type": "code",
   "execution_count": 23,
   "id": "30090cfe-186b-429e-928e-d1b5d1ec7550",
   "metadata": {},
   "outputs": [
    {
     "name": "stdout",
     "output_type": "stream",
     "text": [
      "Keys: dict_keys(['sport', 'Teams'])\n"
     ]
    }
   ],
   "source": [
    "# Using keys() method\n",
    "print(\"Keys:\", dict2.keys())\n",
    "\n",
    "\n"
   ]
  },
  {
   "cell_type": "code",
   "execution_count": 24,
   "id": "957a8eb0-60bf-4e8f-bc9d-f05bca70af02",
   "metadata": {},
   "outputs": [
    {
     "name": "stdout",
     "output_type": "stream",
     "text": [
      "Values: dict_values(['Cricket', ['India', 'England', 'South africa', 'Sri lanka', 'New zealand']])\n"
     ]
    }
   ],
   "source": [
    "# Using values() method\n",
    "print(\"Values:\", dict2.values())"
   ]
  },
  {
   "cell_type": "code",
   "execution_count": 25,
   "id": "6f6108e5-f0de-4b9a-a991-77fbc3ef1fc3",
   "metadata": {},
   "outputs": [
    {
     "name": "stdout",
     "output_type": "stream",
     "text": [
      "Items: dict_items([('sport', 'Cricket'), ('Teams', ['India', 'England', 'South africa', 'Sri lanka', 'New zealand'])])\n"
     ]
    }
   ],
   "source": [
    "# Using items() method\n",
    "print(\"Items:\", dict2.items())\n"
   ]
  },
  {
   "cell_type": "code",
   "execution_count": null,
   "id": "58e39082-8edd-42e7-86c3-c8e3cbcf7c61",
   "metadata": {},
   "outputs": [],
   "source": []
  }
 ],
 "metadata": {
  "kernelspec": {
   "display_name": "Python 3 (ipykernel)",
   "language": "python",
   "name": "python3"
  },
  "language_info": {
   "codemirror_mode": {
    "name": "ipython",
    "version": 3
   },
   "file_extension": ".py",
   "mimetype": "text/x-python",
   "name": "python",
   "nbconvert_exporter": "python",
   "pygments_lexer": "ipython3",
   "version": "3.10.8"
  }
 },
 "nbformat": 4,
 "nbformat_minor": 5
}

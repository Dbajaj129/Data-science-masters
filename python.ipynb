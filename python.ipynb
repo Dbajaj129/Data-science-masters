{
 "cells": [
  {
   "cell_type": "markdown",
   "id": "34da9a50-6888-4de6-be1d-fbf41c7edf1f",
   "metadata": {},
   "source": [
    "# Assignment 3"
   ]
  },
  {
   "cell_type": "markdown",
   "id": "679772cc-d9a0-479b-890d-6215127fe1f0",
   "metadata": {},
   "source": [
    "# Python"
   ]
  },
  {
   "cell_type": "code",
   "execution_count": 1,
   "id": "53b06268-2212-4e28-a8b4-4609801fc937",
   "metadata": {},
   "outputs": [],
   "source": [
    "#ans-1"
   ]
  },
  {
   "cell_type": "code",
   "execution_count": 2,
   "id": "f8732ad8-0feb-42ca-91ae-9f60b36d253c",
   "metadata": {},
   "outputs": [
    {
     "name": "stdout",
     "output_type": "stream",
     "text": [
      "[('Virat Kohli', 24936), ('Jack Kallis', 25534), ('Ricky Ponting', 27483), ('Sachin Tendulkar', 34357)]\n"
     ]
    }
   ],
   "source": [
    "players = [('Sachin Tendulkar', 34357), ('Ricky Ponting', 27483), ('Jack Kallis', 25534), ('Virat Kohli', 24936)]\n",
    "\n",
    "sorted_players = sorted(players, key=lambda x: x[1])\n",
    "\n",
    "print(sorted_players)\n"
   ]
  },
  {
   "cell_type": "code",
   "execution_count": 3,
   "id": "bdf81871-0483-4b4b-a68d-fae4e35f4577",
   "metadata": {},
   "outputs": [],
   "source": [
    "#Ans-2"
   ]
  },
  {
   "cell_type": "code",
   "execution_count": 4,
   "id": "3b330500-43d7-4032-bdf5-c57d8564768e",
   "metadata": {},
   "outputs": [
    {
     "name": "stdout",
     "output_type": "stream",
     "text": [
      "[1, 4, 9, 16, 25, 36, 49, 64, 81, 100]\n"
     ]
    }
   ],
   "source": [
    "numbers = [1, 2, 3, 4, 5, 6, 7, 8, 9, 10]\n",
    "\n",
    "squares = list(map(lambda x: x**2, numbers))\n",
    "\n",
    "print(squares)"
   ]
  },
  {
   "cell_type": "code",
   "execution_count": 6,
   "id": "11cc7353-f5d5-4c3e-bb12-c61bfd05b408",
   "metadata": {},
   "outputs": [],
   "source": [
    "#ans-3"
   ]
  },
  {
   "cell_type": "code",
   "execution_count": 5,
   "id": "73a46ce1-c39b-462d-b3d6-52ef1dae1477",
   "metadata": {},
   "outputs": [
    {
     "name": "stdout",
     "output_type": "stream",
     "text": [
      "('1', '2', '3', '4', '5', '6', '7', '8', '9', '10')\n"
     ]
    }
   ],
   "source": [
    "numbers = [1, 2, 3, 4, 5, 6, 7, 8, 9, 10]\n",
    "\n",
    "strings = tuple(map(lambda x: str(x), numbers))\n",
    "\n",
    "print(strings)"
   ]
  },
  {
   "cell_type": "code",
   "execution_count": 7,
   "id": "26ed4ea0-4de0-4007-9162-00617c6f8ba1",
   "metadata": {},
   "outputs": [],
   "source": [
    "#ans-4"
   ]
  },
  {
   "cell_type": "code",
   "execution_count": 9,
   "id": "f76fa921-eb52-485f-9757-04949873a47a",
   "metadata": {},
   "outputs": [
    {
     "name": "stdout",
     "output_type": "stream",
     "text": [
      "15511210043330985984000000\n"
     ]
    }
   ],
   "source": [
    "from functools import reduce\n",
    "\n",
    "numbers = list(range(1, 26))\n",
    "\n",
    "product = reduce(lambda x, y: x*y, numbers)\n",
    "\n",
    "print(product)"
   ]
  },
  {
   "cell_type": "code",
   "execution_count": 10,
   "id": "b69d65db-8d75-43de-946e-0d2d22fb4a6b",
   "metadata": {},
   "outputs": [],
   "source": [
    "# ans-5"
   ]
  },
  {
   "cell_type": "code",
   "execution_count": 11,
   "id": "627b3f63-73b3-4579-a38a-bc0d00790ae5",
   "metadata": {},
   "outputs": [
    {
     "name": "stdout",
     "output_type": "stream",
     "text": [
      "[6, 60, 90, 120]\n"
     ]
    }
   ],
   "source": [
    "numbers = [2, 3, 6, 9, 27, 60, 90, 120, 55, 46]\n",
    "\n",
    "result = list(filter(lambda x: x%2 == 0 and x%3 == 0, numbers))\n",
    "\n",
    "print(result)"
   ]
  },
  {
   "cell_type": "code",
   "execution_count": 12,
   "id": "54f6b682-4068-48b2-9033-d491d2574d03",
   "metadata": {},
   "outputs": [],
   "source": [
    "# ans - 6"
   ]
  },
  {
   "cell_type": "code",
   "execution_count": 13,
   "id": "38cf2d3a-450f-41cc-8e1d-16d404d899b2",
   "metadata": {},
   "outputs": [
    {
     "name": "stdout",
     "output_type": "stream",
     "text": [
      "['php', 'aba', 'radar', 'level']\n"
     ]
    }
   ],
   "source": [
    "strings = ['python', 'php', 'aba', 'radar', 'level']\n",
    "\n",
    "palindromes = list(filter(lambda x: x == x[::-1], strings))\n",
    "\n",
    "print(palindromes)"
   ]
  },
  {
   "cell_type": "markdown",
   "id": "06b8191c-abdb-4a11-83d3-14a3eeac60cb",
   "metadata": {},
   "source": [
    "# thankyou"
   ]
  },
  {
   "cell_type": "code",
   "execution_count": null,
   "id": "f0d1b012-d9b9-42ec-b3bf-70834fcf782f",
   "metadata": {},
   "outputs": [],
   "source": []
  }
 ],
 "metadata": {
  "kernelspec": {
   "display_name": "Python 3 (ipykernel)",
   "language": "python",
   "name": "python3"
  },
  "language_info": {
   "codemirror_mode": {
    "name": "ipython",
    "version": 3
   },
   "file_extension": ".py",
   "mimetype": "text/x-python",
   "name": "python",
   "nbconvert_exporter": "python",
   "pygments_lexer": "ipython3",
   "version": "3.10.8"
  }
 },
 "nbformat": 4,
 "nbformat_minor": 5
}
